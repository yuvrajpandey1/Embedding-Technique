{
 "cells": [
  {
   "cell_type": "code",
   "execution_count": 1,
   "id": "46b1595e-4abd-4f85-891e-0fd10fcfa648",
   "metadata": {},
   "outputs": [
    {
     "name": "stdout",
     "output_type": "stream",
     "text": [
      "Collecting faiss-cpu\n",
      "  Using cached faiss_cpu-1.9.0-cp312-cp312-win_amd64.whl.metadata (4.5 kB)\n",
      "Requirement already satisfied: numpy<3.0,>=1.25.0 in c:\\programdata\\anaconda3\\lib\\site-packages (from faiss-cpu) (1.26.4)\n",
      "Requirement already satisfied: packaging in c:\\programdata\\anaconda3\\lib\\site-packages (from faiss-cpu) (24.1)\n",
      "Using cached faiss_cpu-1.9.0-cp312-cp312-win_amd64.whl (14.9 MB)\n",
      "Installing collected packages: faiss-cpu\n",
      "Successfully installed faiss-cpu-1.9.0\n",
      "Note: you may need to restart the kernel to use updated packages.\n"
     ]
    }
   ],
   "source": [
    "pip install faiss-cpu"
   ]
  },
  {
   "cell_type": "code",
   "execution_count": 3,
   "id": "d4fd99ef-8111-4c43-a7ee-79c17aa56d06",
   "metadata": {},
   "outputs": [
    {
     "name": "stderr",
     "output_type": "stream",
     "text": [
      "Created a chunk of size 1083, which is longer than the specified 1000\n"
     ]
    }
   ],
   "source": [
    "from langchain_community.document_loaders import TextLoader\n",
    "from langchain_community.vectorstores import FAISS\n",
    "from langchain_community.embeddings import OllamaEmbeddings\n",
    "from langchain_text_splitters import CharacterTextSplitter\n",
    "\n",
    "loader = TextLoader(\"Speech.txt\")\n",
    "documents=loader.load()\n",
    "text_splitter = CharacterTextSplitter(chunk_size=1000,chunk_overlap=20)\n",
    "docs=text_splitter.split_documents(documents)"
   ]
  },
  {
   "cell_type": "code",
   "execution_count": 4,
   "id": "471a7eaa-4fc8-4314-8837-7951b3ba9688",
   "metadata": {},
   "outputs": [
    {
     "data": {
      "text/plain": [
       "[Document(metadata={'source': 'Speech.txt'}, page_content='Introduction\\nDemocracy is mainly a Greek word which means people and their rules, here peoples have the to select their own government as per their choice. Greece was the first democratic country in the world. India is a democratic country where people select their government of their own choice, also people have the rights to do the work of their choice. There are two types of democracy: direct and representative and hybrid or semi-direct democracy. There are many decisions which are made under democracies. People enjoy few rights which are very essential for human beings to live happily.'),\n",
       " Document(metadata={'source': 'Speech.txt'}, page_content='Our country has the largest democracy. In a democracy, each person has equal rights to fight for development. After the independence, India has adopted democracy, where the people vote those who are above 18 years of age, but these votes do not vary by any caste; people from every caste have equal rights to select their government. Democracy, also called as a rule of the majority, means whatever the majority of people decide, it has to be followed or implemented, the representative winning with the most number of votes will have the power. We can say the place where literacy people are more there shows the success of the democracy even lack of consciousness is also dangerous in a democracy. Democracy is associated with higher human accumulation and higher economic freedom. Democracy is closely tied with the economic source of growth like education and quality of life as well as health care. The constituent assembly in India was adopted by Dr B.R. Ambedkar on 26th November 1949 and became sovereign democratic after its constitution came into effect on 26 January 1950.'),\n",
       " Document(metadata={'source': 'Speech.txt'}, page_content='What are the Challenges:\\nThere are many challenges for democracy like- corruption here, many political leaders and officers who donâ€™t do work with integrity everywhere they demand bribes, resulting in the lack of trust on the citizens which affects the country very badly. Anti-social elements- which are seen during elections where people are given bribes and they are forced to vote for a particular candidate. Caste and community- where a large number of people give importance to their caste and community, therefore, the political party also selects the candidate on the majority caste. We see wherever the particular caste people win the elections whether they do good for the society or not, and in some cases, good leaders lose because of less count of the vote.'),\n",
       " Document(metadata={'source': 'Speech.txt'}, page_content='India is considered to be the largest democracy around the globe, with a population of 1.3 billion. Even though being the biggest democratic nation, India still has a long way to becoming the best democratic system. The caste system still prevails in some parts, which hurts the socialist principle of democracy. Communalism is on the rise throughout the globe and also in India, which interferes with the secular principle of democracy. All these differences need to be set aside to ensure a thriving democracy.\\n\\n \\n\\nPrinciples of Democracy:\\nThere are mainly five principles like- republic, socialist, sovereign, democratic and secular, with all these quality political parties will contest for elections. There will be many bribes given to the needy person who require food, money, shelter and ask them to vote whom they want. But we can say that democracy in India is still better than the other countries.'),\n",
       " Document(metadata={'source': 'Speech.txt'}, page_content='Basically, any country needs democracy for development and better functioning of the government. In some countries, freedom of political expression, freedom of speech, freedom of the press, are considered to ensure that voters are well informed, enabling them to vote according to their own interests.\\n\\n \\n\\nLet us Discuss These Five Principles in Further Detail\\nSovereign: In short, being sovereign or sovereignty means the independent authority of a state. The country has the authority to make all the decisions whether it be on internal issues or external issues, without the interference of any third party.\\n\\nSocialist: Being socialist means the country (and the Govt.), always works for the welfare of the people, who live in that country. There should be many bribes offered to the needy person, basic requirements of them should be fulfilled by any means. No one should starve in such a country.'),\n",
       " Document(metadata={'source': 'Speech.txt'}, page_content='Secular: There will be no such thing as a state religion, the country does not make any bias on the basis of religion. Every religion must be the same in front of the law, no discrimination on the basis of someoneâ€™s religion is tolerated. Everyone is allowed to practice and propagate any religion, they can change their religion at any time.\\n\\nRepublic: In a republic form of Government, the head of the state is elected, directly or indirectly by the people and is not a hereditary monarch. This elected head is also there for a fixed tenure. In India, the head of the state is the president, who is indirectly elected and has a fixed term of office (5 years).\\n\\nDemocratic: By a democratic form of government, means the countryâ€™s government is elected by the people via the process of voting. All the adult citizens in the country have the right to vote to elect the government they want, only if they meet a certain age limit of voting.'),\n",
       " Document(metadata={'source': 'Speech.txt'}, page_content='Merits of Democracy:\\nbetter government forms because it is more accountable and in the interest of the people.\\n\\nimproves the quality of decision making and enhances the dignity of the citizens.\\n\\nprovide a method to deal with differences and conflicts.\\n\\nA democratic system of government is a form of government in which supreme power is vested in the people and exercised by them directly or indirectly through a system of representation usually involving periodic free elections. It permits citizens to participate in making laws and public policies by choosing their leaders, therefore citizens should be educated so that they can select the right candidate for the ruling government. Also, there are some concerns regarding democracy- leaders always keep changing in democracy with the interest of citizens and on the count of votes which leads to instability. It is all about political competition and power, no scope for morality.\\n\\n \\n\\nFactors Affect Democracy:\\nculture'),\n",
       " Document(metadata={'source': 'Speech.txt'}, page_content='capital and civil society\\n\\neconomic development\\n\\nequality\\n\\nmodernization\\n\\nNorway and Iceland are the best democratic countries in the world. India is standing at fifty-one position.\\n\\nIndia is a parliamentary democratic republic where the President is head of the state and Prime minister is head of the government. The guiding principles of democracy such as protected rights and freedoms, free and fair elections, accountability and transparency of government officials, citizens have a responsibility to uphold and support their principles. Democracy was first practised in the 6th century BCE, in the city-state of Athens. One basic principle of democracy is that people are the source of all the political power, in a democracy people rule themselves and also respect given to diverse groups of citizens, so democracy is required to select the government of their own interest and make the nation developed by electing good leaders.')]"
      ]
     },
     "execution_count": 4,
     "metadata": {},
     "output_type": "execute_result"
    }
   ],
   "source": [
    "docs"
   ]
  },
  {
   "cell_type": "code",
   "execution_count": 7,
   "id": "2eb857ec-a2f4-4365-9ac6-4f284ba2af10",
   "metadata": {},
   "outputs": [
    {
     "name": "stdout",
     "output_type": "stream",
     "text": [
      "Collecting Ollama\n",
      "  Downloading ollama-0.3.3-py3-none-any.whl.metadata (3.8 kB)\n",
      "Requirement already satisfied: httpx<0.28.0,>=0.27.0 in c:\\programdata\\anaconda3\\lib\\site-packages (from Ollama) (0.27.0)\n",
      "Requirement already satisfied: anyio in c:\\programdata\\anaconda3\\lib\\site-packages (from httpx<0.28.0,>=0.27.0->Ollama) (4.2.0)\n",
      "Requirement already satisfied: certifi in c:\\programdata\\anaconda3\\lib\\site-packages (from httpx<0.28.0,>=0.27.0->Ollama) (2024.8.30)\n",
      "Requirement already satisfied: httpcore==1.* in c:\\programdata\\anaconda3\\lib\\site-packages (from httpx<0.28.0,>=0.27.0->Ollama) (1.0.2)\n",
      "Requirement already satisfied: idna in c:\\programdata\\anaconda3\\lib\\site-packages (from httpx<0.28.0,>=0.27.0->Ollama) (3.7)\n",
      "Requirement already satisfied: sniffio in c:\\programdata\\anaconda3\\lib\\site-packages (from httpx<0.28.0,>=0.27.0->Ollama) (1.3.0)\n",
      "Requirement already satisfied: h11<0.15,>=0.13 in c:\\programdata\\anaconda3\\lib\\site-packages (from httpcore==1.*->httpx<0.28.0,>=0.27.0->Ollama) (0.14.0)\n",
      "Downloading ollama-0.3.3-py3-none-any.whl (10 kB)\n",
      "Installing collected packages: Ollama\n",
      "Successfully installed Ollama-0.3.3\n",
      "Note: you may need to restart the kernel to use updated packages.\n"
     ]
    }
   ],
   "source": [
    "pip install Ollama"
   ]
  },
  {
   "cell_type": "code",
   "execution_count": 9,
   "id": "499bb0d6-d7ca-402e-a353-92d29c74e0c4",
   "metadata": {},
   "outputs": [
    {
     "ename": "ValueError",
     "evalue": "Error raised by inference API HTTP code: 404, {\"error\":\"model \\\"llama2\\\" not found, try pulling it first\"}",
     "output_type": "error",
     "traceback": [
      "\u001b[1;31m---------------------------------------------------------------------------\u001b[0m",
      "\u001b[1;31mValueError\u001b[0m                                Traceback (most recent call last)",
      "Cell \u001b[1;32mIn[9], line 2\u001b[0m\n\u001b[0;32m      1\u001b[0m embeddings \u001b[38;5;241m=\u001b[39m OllamaEmbeddings()\n\u001b[1;32m----> 2\u001b[0m db\u001b[38;5;241m=\u001b[39mFAISS\u001b[38;5;241m.\u001b[39mfrom_documents(docs,embeddings)\n\u001b[0;32m      3\u001b[0m db\n",
      "File \u001b[1;32mC:\\ProgramData\\anaconda3\\Lib\\site-packages\\langchain_core\\vectorstores\\base.py:852\u001b[0m, in \u001b[0;36mVectorStore.from_documents\u001b[1;34m(cls, documents, embedding, **kwargs)\u001b[0m\n\u001b[0;32m    849\u001b[0m     \u001b[38;5;28;01mif\u001b[39;00m \u001b[38;5;28many\u001b[39m(ids):\n\u001b[0;32m    850\u001b[0m         kwargs[\u001b[38;5;124m\"\u001b[39m\u001b[38;5;124mids\u001b[39m\u001b[38;5;124m\"\u001b[39m] \u001b[38;5;241m=\u001b[39m ids\n\u001b[1;32m--> 852\u001b[0m \u001b[38;5;28;01mreturn\u001b[39;00m \u001b[38;5;28mcls\u001b[39m\u001b[38;5;241m.\u001b[39mfrom_texts(texts, embedding, metadatas\u001b[38;5;241m=\u001b[39mmetadatas, \u001b[38;5;241m*\u001b[39m\u001b[38;5;241m*\u001b[39mkwargs)\n",
      "File \u001b[1;32mC:\\ProgramData\\anaconda3\\Lib\\site-packages\\langchain_community\\vectorstores\\faiss.py:1041\u001b[0m, in \u001b[0;36mFAISS.from_texts\u001b[1;34m(cls, texts, embedding, metadatas, ids, **kwargs)\u001b[0m\n\u001b[0;32m   1014\u001b[0m \u001b[38;5;129m@classmethod\u001b[39m\n\u001b[0;32m   1015\u001b[0m \u001b[38;5;28;01mdef\u001b[39;00m \u001b[38;5;21mfrom_texts\u001b[39m(\n\u001b[0;32m   1016\u001b[0m     \u001b[38;5;28mcls\u001b[39m,\n\u001b[1;32m   (...)\u001b[0m\n\u001b[0;32m   1021\u001b[0m     \u001b[38;5;241m*\u001b[39m\u001b[38;5;241m*\u001b[39mkwargs: Any,\n\u001b[0;32m   1022\u001b[0m ) \u001b[38;5;241m-\u001b[39m\u001b[38;5;241m>\u001b[39m FAISS:\n\u001b[0;32m   1023\u001b[0m \u001b[38;5;250m    \u001b[39m\u001b[38;5;124;03m\"\"\"Construct FAISS wrapper from raw documents.\u001b[39;00m\n\u001b[0;32m   1024\u001b[0m \n\u001b[0;32m   1025\u001b[0m \u001b[38;5;124;03m    This is a user friendly interface that:\u001b[39;00m\n\u001b[1;32m   (...)\u001b[0m\n\u001b[0;32m   1039\u001b[0m \u001b[38;5;124;03m            faiss = FAISS.from_texts(texts, embeddings)\u001b[39;00m\n\u001b[0;32m   1040\u001b[0m \u001b[38;5;124;03m    \"\"\"\u001b[39;00m\n\u001b[1;32m-> 1041\u001b[0m     embeddings \u001b[38;5;241m=\u001b[39m embedding\u001b[38;5;241m.\u001b[39membed_documents(texts)\n\u001b[0;32m   1042\u001b[0m     \u001b[38;5;28;01mreturn\u001b[39;00m \u001b[38;5;28mcls\u001b[39m\u001b[38;5;241m.\u001b[39m__from(\n\u001b[0;32m   1043\u001b[0m         texts,\n\u001b[0;32m   1044\u001b[0m         embeddings,\n\u001b[1;32m   (...)\u001b[0m\n\u001b[0;32m   1048\u001b[0m         \u001b[38;5;241m*\u001b[39m\u001b[38;5;241m*\u001b[39mkwargs,\n\u001b[0;32m   1049\u001b[0m     )\n",
      "File \u001b[1;32mC:\\ProgramData\\anaconda3\\Lib\\site-packages\\langchain_community\\embeddings\\ollama.py:214\u001b[0m, in \u001b[0;36mOllamaEmbeddings.embed_documents\u001b[1;34m(self, texts)\u001b[0m\n\u001b[0;32m    205\u001b[0m \u001b[38;5;250m\u001b[39m\u001b[38;5;124;03m\"\"\"Embed documents using an Ollama deployed embedding model.\u001b[39;00m\n\u001b[0;32m    206\u001b[0m \n\u001b[0;32m    207\u001b[0m \u001b[38;5;124;03mArgs:\u001b[39;00m\n\u001b[1;32m   (...)\u001b[0m\n\u001b[0;32m    211\u001b[0m \u001b[38;5;124;03m    List of embeddings, one for each text.\u001b[39;00m\n\u001b[0;32m    212\u001b[0m \u001b[38;5;124;03m\"\"\"\u001b[39;00m\n\u001b[0;32m    213\u001b[0m instruction_pairs \u001b[38;5;241m=\u001b[39m [\u001b[38;5;124mf\u001b[39m\u001b[38;5;124m\"\u001b[39m\u001b[38;5;132;01m{\u001b[39;00m\u001b[38;5;28mself\u001b[39m\u001b[38;5;241m.\u001b[39membed_instruction\u001b[38;5;132;01m}\u001b[39;00m\u001b[38;5;132;01m{\u001b[39;00mtext\u001b[38;5;132;01m}\u001b[39;00m\u001b[38;5;124m\"\u001b[39m \u001b[38;5;28;01mfor\u001b[39;00m text \u001b[38;5;129;01min\u001b[39;00m texts]\n\u001b[1;32m--> 214\u001b[0m embeddings \u001b[38;5;241m=\u001b[39m \u001b[38;5;28mself\u001b[39m\u001b[38;5;241m.\u001b[39m_embed(instruction_pairs)\n\u001b[0;32m    215\u001b[0m \u001b[38;5;28;01mreturn\u001b[39;00m embeddings\n",
      "File \u001b[1;32mC:\\ProgramData\\anaconda3\\Lib\\site-packages\\langchain_community\\embeddings\\ollama.py:202\u001b[0m, in \u001b[0;36mOllamaEmbeddings._embed\u001b[1;34m(self, input)\u001b[0m\n\u001b[0;32m    200\u001b[0m \u001b[38;5;28;01melse\u001b[39;00m:\n\u001b[0;32m    201\u001b[0m     iter_ \u001b[38;5;241m=\u001b[39m \u001b[38;5;28minput\u001b[39m\n\u001b[1;32m--> 202\u001b[0m \u001b[38;5;28;01mreturn\u001b[39;00m [\u001b[38;5;28mself\u001b[39m\u001b[38;5;241m.\u001b[39m_process_emb_response(prompt) \u001b[38;5;28;01mfor\u001b[39;00m prompt \u001b[38;5;129;01min\u001b[39;00m iter_]\n",
      "File \u001b[1;32mC:\\ProgramData\\anaconda3\\Lib\\site-packages\\langchain_community\\embeddings\\ollama.py:176\u001b[0m, in \u001b[0;36mOllamaEmbeddings._process_emb_response\u001b[1;34m(self, input)\u001b[0m\n\u001b[0;32m    173\u001b[0m     \u001b[38;5;28;01mraise\u001b[39;00m \u001b[38;5;167;01mValueError\u001b[39;00m(\u001b[38;5;124mf\u001b[39m\u001b[38;5;124m\"\u001b[39m\u001b[38;5;124mError raised by inference endpoint: \u001b[39m\u001b[38;5;132;01m{\u001b[39;00me\u001b[38;5;132;01m}\u001b[39;00m\u001b[38;5;124m\"\u001b[39m)\n\u001b[0;32m    175\u001b[0m \u001b[38;5;28;01mif\u001b[39;00m res\u001b[38;5;241m.\u001b[39mstatus_code \u001b[38;5;241m!=\u001b[39m \u001b[38;5;241m200\u001b[39m:\n\u001b[1;32m--> 176\u001b[0m     \u001b[38;5;28;01mraise\u001b[39;00m \u001b[38;5;167;01mValueError\u001b[39;00m(\n\u001b[0;32m    177\u001b[0m         \u001b[38;5;124m\"\u001b[39m\u001b[38;5;124mError raised by inference API HTTP code: \u001b[39m\u001b[38;5;132;01m%s\u001b[39;00m\u001b[38;5;124m, \u001b[39m\u001b[38;5;132;01m%s\u001b[39;00m\u001b[38;5;124m\"\u001b[39m\n\u001b[0;32m    178\u001b[0m         \u001b[38;5;241m%\u001b[39m (res\u001b[38;5;241m.\u001b[39mstatus_code, res\u001b[38;5;241m.\u001b[39mtext)\n\u001b[0;32m    179\u001b[0m     )\n\u001b[0;32m    180\u001b[0m \u001b[38;5;28;01mtry\u001b[39;00m:\n\u001b[0;32m    181\u001b[0m     t \u001b[38;5;241m=\u001b[39m res\u001b[38;5;241m.\u001b[39mjson()\n",
      "\u001b[1;31mValueError\u001b[0m: Error raised by inference API HTTP code: 404, {\"error\":\"model \\\"llama2\\\" not found, try pulling it first\"}"
     ]
    }
   ],
   "source": [
    "embeddings = OllamaEmbeddings()\n",
    "db=FAISS.from_documents(docs,embeddings)\n",
    "db"
   ]
  },
  {
   "cell_type": "code",
   "execution_count": null,
   "id": "530db8c4-e2ac-4992-a9f6-0a2feb766a28",
   "metadata": {},
   "outputs": [],
   "source": []
  }
 ],
 "metadata": {
  "kernelspec": {
   "display_name": "Python 3 (ipykernel)",
   "language": "python",
   "name": "python3"
  },
  "language_info": {
   "codemirror_mode": {
    "name": "ipython",
    "version": 3
   },
   "file_extension": ".py",
   "mimetype": "text/x-python",
   "name": "python",
   "nbconvert_exporter": "python",
   "pygments_lexer": "ipython3",
   "version": "3.12.7"
  }
 },
 "nbformat": 4,
 "nbformat_minor": 5
}
